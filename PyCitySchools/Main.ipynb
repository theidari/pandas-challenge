{
 "cells": [
  {
   "cell_type": "code",
   "execution_count": 1,
   "metadata": {},
   "outputs": [],
   "source": [
    "# Import Dependencies\n",
    "import pandas as pd"
   ]
  },
  {
   "cell_type": "code",
   "execution_count": 2,
   "metadata": {},
   "outputs": [],
   "source": [
    "state_avg_csv = \"Resources/state_avg.csv\"\n",
    "state_totals_csv = \"Resources/state_totals.csv\""
   ]
  },
  {
   "cell_type": "code",
   "execution_count": 3,
   "metadata": {},
   "outputs": [],
   "source": [
    "state_avg_df = pd.read_csv(state_avg_csv)\n",
    "state_totals_df = pd.read_csv(state_totals_csv)"
   ]
  },
  {
   "cell_type": "code",
   "execution_count": 4,
   "metadata": {},
   "outputs": [
    {
     "data": {
      "text/html": [
       "<div>\n",
       "<style scoped>\n",
       "    .dataframe tbody tr th:only-of-type {\n",
       "        vertical-align: middle;\n",
       "    }\n",
       "\n",
       "    .dataframe tbody tr th {\n",
       "        vertical-align: top;\n",
       "    }\n",
       "\n",
       "    .dataframe thead th {\n",
       "        text-align: right;\n",
       "    }\n",
       "</style>\n",
       "<table border=\"1\" class=\"dataframe\">\n",
       "  <thead>\n",
       "    <tr style=\"text-align: right;\">\n",
       "      <th></th>\n",
       "      <th>Year</th>\n",
       "      <th>State</th>\n",
       "      <th>Average Median Age by County</th>\n",
       "      <th>Average Household Income by County</th>\n",
       "      <th>Average Per Capita Income by County</th>\n",
       "    </tr>\n",
       "  </thead>\n",
       "  <tbody>\n",
       "    <tr>\n",
       "      <th>0</th>\n",
       "      <td>2016</td>\n",
       "      <td>Alabama</td>\n",
       "      <td>40.250746</td>\n",
       "      <td>38834.925373</td>\n",
       "      <td>21232.746269</td>\n",
       "    </tr>\n",
       "    <tr>\n",
       "      <th>1</th>\n",
       "      <td>2016</td>\n",
       "      <td>Alaska</td>\n",
       "      <td>36.624138</td>\n",
       "      <td>64801.655172</td>\n",
       "      <td>31052.103448</td>\n",
       "    </tr>\n",
       "    <tr>\n",
       "      <th>2</th>\n",
       "      <td>2016</td>\n",
       "      <td>Arizona</td>\n",
       "      <td>39.613333</td>\n",
       "      <td>44166.533333</td>\n",
       "      <td>21786.333333</td>\n",
       "    </tr>\n",
       "    <tr>\n",
       "      <th>3</th>\n",
       "      <td>2016</td>\n",
       "      <td>Arkansas</td>\n",
       "      <td>41.140000</td>\n",
       "      <td>37503.720000</td>\n",
       "      <td>20591.666667</td>\n",
       "    </tr>\n",
       "    <tr>\n",
       "      <th>4</th>\n",
       "      <td>2016</td>\n",
       "      <td>California</td>\n",
       "      <td>39.281034</td>\n",
       "      <td>58091.241379</td>\n",
       "      <td>29025.793103</td>\n",
       "    </tr>\n",
       "  </tbody>\n",
       "</table>\n",
       "</div>"
      ],
      "text/plain": [
       "   Year       State  Average Median Age by County  \\\n",
       "0  2016     Alabama                     40.250746   \n",
       "1  2016      Alaska                     36.624138   \n",
       "2  2016     Arizona                     39.613333   \n",
       "3  2016    Arkansas                     41.140000   \n",
       "4  2016  California                     39.281034   \n",
       "\n",
       "   Average Household Income by County  Average Per Capita Income by County  \n",
       "0                        38834.925373                         21232.746269  \n",
       "1                        64801.655172                         31052.103448  \n",
       "2                        44166.533333                         21786.333333  \n",
       "3                        37503.720000                         20591.666667  \n",
       "4                        58091.241379                         29025.793103  "
      ]
     },
     "execution_count": 4,
     "metadata": {},
     "output_type": "execute_result"
    }
   ],
   "source": [
    "state_avg_df.head()"
   ]
  },
  {
   "cell_type": "code",
   "execution_count": 5,
   "metadata": {},
   "outputs": [
    {
     "data": {
      "text/html": [
       "<div>\n",
       "<style scoped>\n",
       "    .dataframe tbody tr th:only-of-type {\n",
       "        vertical-align: middle;\n",
       "    }\n",
       "\n",
       "    .dataframe tbody tr th {\n",
       "        vertical-align: top;\n",
       "    }\n",
       "\n",
       "    .dataframe thead th {\n",
       "        text-align: right;\n",
       "    }\n",
       "</style>\n",
       "<table border=\"1\" class=\"dataframe\">\n",
       "  <thead>\n",
       "    <tr style=\"text-align: right;\">\n",
       "      <th></th>\n",
       "      <th>Year</th>\n",
       "      <th>State</th>\n",
       "      <th>Total Population</th>\n",
       "      <th>Total Employed Civilians</th>\n",
       "      <th>Total Unemployed Civilians</th>\n",
       "      <th>Total People in the Military</th>\n",
       "      <th>Total Population in Poverty</th>\n",
       "    </tr>\n",
       "  </thead>\n",
       "  <tbody>\n",
       "    <tr>\n",
       "      <th>0</th>\n",
       "      <td>2016</td>\n",
       "      <td>Alabama</td>\n",
       "      <td>4841164</td>\n",
       "      <td>2042025.0</td>\n",
       "      <td>184479.0</td>\n",
       "      <td>12150.0</td>\n",
       "      <td>868666.0</td>\n",
       "    </tr>\n",
       "    <tr>\n",
       "      <th>1</th>\n",
       "      <td>2016</td>\n",
       "      <td>Alaska</td>\n",
       "      <td>736855</td>\n",
       "      <td>353954.0</td>\n",
       "      <td>30139.0</td>\n",
       "      <td>16382.0</td>\n",
       "      <td>72826.0</td>\n",
       "    </tr>\n",
       "    <tr>\n",
       "      <th>2</th>\n",
       "      <td>2016</td>\n",
       "      <td>Arizona</td>\n",
       "      <td>6728577</td>\n",
       "      <td>2879372.0</td>\n",
       "      <td>249972.0</td>\n",
       "      <td>17373.0</td>\n",
       "      <td>1165636.0</td>\n",
       "    </tr>\n",
       "    <tr>\n",
       "      <th>3</th>\n",
       "      <td>2016</td>\n",
       "      <td>Arkansas</td>\n",
       "      <td>2968472</td>\n",
       "      <td>1266552.0</td>\n",
       "      <td>93190.0</td>\n",
       "      <td>4445.0</td>\n",
       "      <td>542431.0</td>\n",
       "    </tr>\n",
       "    <tr>\n",
       "      <th>4</th>\n",
       "      <td>2016</td>\n",
       "      <td>California</td>\n",
       "      <td>38654206</td>\n",
       "      <td>17577142.0</td>\n",
       "      <td>1683726.0</td>\n",
       "      <td>130452.0</td>\n",
       "      <td>6004257.0</td>\n",
       "    </tr>\n",
       "  </tbody>\n",
       "</table>\n",
       "</div>"
      ],
      "text/plain": [
       "   Year       State  Total Population  Total Employed Civilians  \\\n",
       "0  2016     Alabama           4841164                 2042025.0   \n",
       "1  2016      Alaska            736855                  353954.0   \n",
       "2  2016     Arizona           6728577                 2879372.0   \n",
       "3  2016    Arkansas           2968472                 1266552.0   \n",
       "4  2016  California          38654206                17577142.0   \n",
       "\n",
       "   Total Unemployed Civilians  Total People in the Military  \\\n",
       "0                    184479.0                       12150.0   \n",
       "1                     30139.0                       16382.0   \n",
       "2                    249972.0                       17373.0   \n",
       "3                     93190.0                        4445.0   \n",
       "4                   1683726.0                      130452.0   \n",
       "\n",
       "   Total Population in Poverty  \n",
       "0                     868666.0  \n",
       "1                      72826.0  \n",
       "2                    1165636.0  \n",
       "3                     542431.0  \n",
       "4                    6004257.0  "
      ]
     },
     "execution_count": 5,
     "metadata": {},
     "output_type": "execute_result"
    }
   ],
   "source": [
    "state_totals_df.head()"
   ]
  },
  {
   "cell_type": "code",
   "execution_count": null,
   "metadata": {
    "collapsed": true
   },
   "outputs": [],
   "source": [
    "# Merge the two DataFrames together based on the Year and State they share"
   ]
  },
  {
   "cell_type": "code",
   "execution_count": null,
   "metadata": {
    "collapsed": true,
    "scrolled": true
   },
   "outputs": [],
   "source": [
    "# Create a DataFrame that filters the data on only 2019"
   ]
  },
  {
   "cell_type": "code",
   "execution_count": null,
   "metadata": {
    "collapsed": true
   },
   "outputs": [],
   "source": [
    "# Add a new column that calculates the Poverty Rate"
   ]
  },
  {
   "cell_type": "code",
   "execution_count": null,
   "metadata": {
    "collapsed": true
   },
   "outputs": [],
   "source": [
    "# Sort the data by Poverty Rate and Average Per Capita Income by County, Highest to Lowest\n",
    "\n",
    "# Reset Index"
   ]
  },
  {
   "cell_type": "code",
   "execution_count": null,
   "metadata": {
    "collapsed": true
   },
   "outputs": [],
   "source": [
    "# Print out the data for the most poverty stricken state or territory"
   ]
  },
  {
   "cell_type": "code",
   "execution_count": null,
   "metadata": {},
   "outputs": [],
   "source": [
    "# Bonus: Print out the data for the least poverty sticken state or territory with one line of code"
   ]
  }
 ],
 "metadata": {
  "kernelspec": {
   "display_name": "Python 3 (ipykernel)",
   "language": "python",
   "name": "python3"
  },
  "language_info": {
   "codemirror_mode": {
    "name": "ipython",
    "version": 3
   },
   "file_extension": ".py",
   "mimetype": "text/x-python",
   "name": "python",
   "nbconvert_exporter": "python",
   "pygments_lexer": "ipython3",
   "version": "3.9.13"
  }
 },
 "nbformat": 4,
 "nbformat_minor": 2
}
